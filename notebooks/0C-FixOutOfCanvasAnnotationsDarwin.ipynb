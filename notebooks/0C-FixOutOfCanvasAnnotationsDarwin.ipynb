{
 "cells": [
  {
   "cell_type": "markdown",
   "metadata": {},
   "source": [
    "# Context\n",
    "\n",
    "When I tried to run a train where with the get_dataset tool from Darwin, I got an error message saying that some annotations contain negative values.\n",
    "After contacting darwin for this issue, they said this behavior is expected. The workaround would be to trim the negative annotations.\n",
    "So they sent me a python code called 00-trim_annotations_to_border_single_frame.py.\n",
    "\n",
    "Steps:\n",
    "- Download darwin annotations.\n",
    "- Trim them.\n",
    "- Upload and overwrite them into darwin."
   ]
  },
  {
   "cell_type": "code",
   "execution_count": null,
   "metadata": {},
   "outputs": [],
   "source": [
    "import os\n",
    "from tqdm import tqdm\n",
    "\n",
    "# === Paths and Dataset Selection ===\n",
    "darwin_path = (\n",
    "    \"/mnt/Data-Work-RE/26_Agricultural_Engineering-RE/263_DP/01_Projekte/\"\n",
    "    \"2020-Fenaco-Drohnen/code/Rumex-Paper-1/assets/digital-production\"\n",
    ")\n",
    "\n",
    "datasets = [\n",
    "    'haldennord09',\n",
    "    'haldensued10',\n",
    "    'haldensued08',\n",
    "    'haldennord10',\n",
    "    'lightly'\n",
    "]\n"
   ]
  },
  {
   "cell_type": "code",
   "execution_count": null,
   "metadata": {},
   "outputs": [],
   "source": [
    "def get_latest_darwin_version_on_local(path):\n",
    "    \"\"\"\n",
    "    Returns the highest numeric folder name from a given path.\n",
    "    \n",
    "    Example:\n",
    "        dataset = 'haldensued10'\n",
    "        dir = os.path.join(darwin_path, dataset, 'releases')\n",
    "        latest_version = get_latest_darwin_version_on_local(dir)\n",
    "    \"\"\"\n",
    "    try:\n",
    "        folders = os.listdir(path)\n",
    "        numbers = [int(folder) for folder in folders if folder.isdigit()]\n",
    "        return str(max(numbers)) if numbers else None\n",
    "    except FileNotFoundError:\n",
    "        print(f\"Directory not found: {path}\")\n",
    "        return None\n",
    "    except Exception as e:\n",
    "        print(f\"Error reading from {path}: {e}\")\n",
    "        return None\n",
    "\n",
    "dataset = 'haldensued10'\n",
    "dir = os.path.join(darwin_path, dataset, 'releases')\n",
    "latest_version = get_latest_darwin_version_on_local(dir)\n",
    "latest_version"
   ]
  },
  {
   "cell_type": "code",
   "execution_count": null,
   "metadata": {},
   "outputs": [],
   "source": [
    "for d in tqdm(datasets):\n",
    "    # Get the dataset version\n",
    "    dir = os.path.join(darwin_path, d, 'releases')\n",
    "    v = get_latest_darwin_version_on_local(dir)\n",
    "    # Construct the input link\n",
    "    input_path = os.path.join(darwin_path, d, 'releases', v, 'annotations')\n",
    "    # Construct the output link\n",
    "    output_path = os.path.join(darwin_path, d, 'releases', 'fixed', 'annotations')\n",
    "    # run the python script\n",
    "    !python3 ./trim_annotations_folder.py -i \"{input_path}\" -o \"{output_path}\" \n",
    "    "
   ]
  },
  {
   "cell_type": "code",
   "execution_count": null,
   "metadata": {},
   "outputs": [],
   "source": [
    "dataset = datasets[0]\n",
    "print(dataset)\n",
    "ann_path = os.path.join(darwin_path, dataset, 'releases', 'fixed', 'annotations')\n",
    "len(os.listdir(ann_path))"
   ]
  },
  {
   "cell_type": "code",
   "execution_count": null,
   "metadata": {},
   "outputs": [],
   "source": [
    "from darwin.client import Client\n",
    "import darwin.importer as importer\n",
    "from darwin.importer import get_importer\n",
    "\n",
    "API_KEY = \"jRfXJTu.AiF1ryWGYPoMjHrB5dv6ZiDtnrWWk6Lr\"\n",
    "client = Client.from_api_key(API_KEY)\n",
    "parser = get_importer(\"darwin\")\n"
   ]
  },
  {
   "cell_type": "code",
   "execution_count": null,
   "metadata": {},
   "outputs": [],
   "source": [
    "d"
   ]
  },
  {
   "cell_type": "code",
   "execution_count": null,
   "metadata": {},
   "outputs": [],
   "source": [
    "d = datasets[4]\n",
    "ann_path = os.path.join(darwin_path, d, 'releases', 'fixed', 'annotations')\n",
    "dataset = client.get_remote_dataset(f\"digital-production/{d}\")\n",
    "json_files = [os.path.join(ann_path, f) for f in os.listdir(ann_path) if f.endswith('json')]\n",
    "print(len(json_files))\n"
   ]
  },
  {
   "cell_type": "code",
   "execution_count": null,
   "metadata": {},
   "outputs": [],
   "source": [
    "batch_size = 50\n",
    "for i in range(0, len(json_files), batch_size):\n",
    "    batch = json_files[i:i+batch_size]\n",
    "    importer.import_annotations(dataset, parser, batch, append=False, overwrite=True)"
   ]
  },
  {
   "cell_type": "code",
   "execution_count": null,
   "metadata": {},
   "outputs": [],
   "source": [
    "# Upload the annotations\n",
    "for d in tqdm(datasets[4:]):\n",
    "    ann_path = os.path.join(darwin_path, d, 'releases', 'fixed', 'annotations')\n",
    "    dataset = client.get_remote_dataset(f\"digital-production/{d}\")\n",
    "    importer.import_annotations(dataset, parser, [ann_path], append=False, overwrite=True)\n"
   ]
  },
  {
   "cell_type": "code",
   "execution_count": null,
   "metadata": {},
   "outputs": [],
   "source": [
    "# Now export the new version again\n",
    "!darwin dataset export digital-production/{dataset]"
   ]
  },
  {
   "cell_type": "code",
   "execution_count": null,
   "metadata": {},
   "outputs": [],
   "source": [
    "# Pull the version 2 of the dataset\n",
    "!darwin dataset pull digital-production/{dataset]"
   ]
  },
  {
   "cell_type": "code",
   "execution_count": null,
   "metadata": {},
   "outputs": [],
   "source": [
    "# And split it again\n",
    "!darwin dataset split digital-production/{dataset] --val-percentage 0.1 --test-percentage 0.2"
   ]
  }
 ],
 "metadata": {
  "kernelspec": {
   "display_name": "RumexEnv",
   "language": "python",
   "name": "rumexenv"
  },
  "language_info": {
   "codemirror_mode": {
    "name": "ipython",
    "version": 3
   },
   "file_extension": ".py",
   "mimetype": "text/x-python",
   "name": "python",
   "nbconvert_exporter": "python",
   "pygments_lexer": "ipython3",
   "version": "3.10.9"
  }
 },
 "nbformat": 4,
 "nbformat_minor": 4
}
