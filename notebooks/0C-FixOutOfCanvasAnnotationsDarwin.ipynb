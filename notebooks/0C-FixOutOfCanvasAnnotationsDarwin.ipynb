{
 "cells": [
  {
   "cell_type": "markdown",
   "metadata": {},
   "source": [
    "# Context\n",
    "\n",
    "When I tried to run a train where with the get_dataset tool from Darwin, I got an error message saying that some annotations contain negative values.\n",
    "After contacting darwin for this issue, they said this behavior is expected. The workaround would be to trim the negative annotations.\n",
    "So they sent me a python code called 00-trim_annotations_to_border_single_frame.py.\n",
    "\n",
    "Steps:\n",
    "- Download darwin annotations.\n",
    "- Trim them.\n",
    "- Upload and overwrite them into darwin."
   ]
  },
  {
   "cell_type": "code",
   "execution_count": 1,
   "metadata": {},
   "outputs": [],
   "source": [
    "import darwin"
   ]
  },
  {
   "cell_type": "code",
   "execution_count": 1,
   "metadata": {},
   "outputs": [
    {
     "name": "stdout",
     "output_type": "stream",
     "text": [
      "/bin/bash: /home/naro/.conda/envs/raven/bin/darwin: /home/naro/Raven/.conda/bin/python: bad interpreter: No such file or directory\n"
     ]
    }
   ],
   "source": [
    "# Export the dataset from darwin with its current version 1, and split it into train, validation and test sets\n",
    "!darwin dataset export digital-production/raven 3\n"
   ]
  },
  {
   "cell_type": "code",
   "execution_count": null,
   "metadata": {},
   "outputs": [],
   "source": [
    "!darwin dataset pull digital-production/raven\n",
    "!darwin dataset split digital-production/raven --val-percentage 0.1 --test-percentage 0.2"
   ]
  },
  {
   "cell_type": "code",
   "execution_count": null,
   "metadata": {},
   "outputs": [],
   "source": [
    "# Trim the annotations\n",
    "!bash /home/naro/Raven/trim.sh"
   ]
  },
  {
   "cell_type": "code",
   "execution_count": null,
   "metadata": {},
   "outputs": [],
   "source": [
    "# Get the list of new annotations (that are trimmed)\n",
    "import os \n",
    "\n",
    "path = \"/home/naro/Raven/annotations\"\n",
    "annotations_path = os.listdir(path)\n",
    "annotations_path = [os.path.join(path, f) for f in annotations_path if f.endswith('json')] \n",
    "annotations_path[0:3] "
   ]
  },
  {
   "cell_type": "code",
   "execution_count": null,
   "metadata": {},
   "outputs": [],
   "source": [
    "from darwin.client import Client\n",
    "\n",
    "API_KEY = \"YyQSH5m.o7A4OmZfl4edpbfU6bom0THerkr08U9J\"\n",
    "client = Client.from_api_key(API_KEY)\n",
    "dataset = client.get_remote_dataset(\"digital-production/raven\")\n"
   ]
  },
  {
   "cell_type": "code",
   "execution_count": null,
   "metadata": {},
   "outputs": [],
   "source": [
    "# Upload the annotations\n",
    "import darwin.importer as importer\n",
    "from darwin.client import Client\n",
    "from darwin.importer import get_importer\n",
    "\n",
    "\n",
    "parser = get_importer(\"darwin\")\n",
    "importer.import_annotations(dataset, parser, annotations_path, append=False)\n"
   ]
  },
  {
   "cell_type": "code",
   "execution_count": null,
   "metadata": {},
   "outputs": [],
   "source": [
    "# Now export the new version again\n",
    "!darwin dataset export digital-production/raven 2"
   ]
  },
  {
   "cell_type": "code",
   "execution_count": null,
   "metadata": {},
   "outputs": [],
   "source": [
    "# Pull the version 2 of the dataset\n",
    "!darwin dataset pull digital-production/raven:2"
   ]
  },
  {
   "cell_type": "code",
   "execution_count": null,
   "metadata": {},
   "outputs": [],
   "source": [
    "# And split it again\n",
    "!darwin dataset split digital-production/raven:2 --val-percentage 0.1 --test-percentage 0.2"
   ]
  }
 ],
 "metadata": {
  "kernelspec": {
   "display_name": "Python 3",
   "language": "python",
   "name": "python3"
  },
  "language_info": {
   "codemirror_mode": {
    "name": "ipython",
    "version": 3
   },
   "file_extension": ".py",
   "mimetype": "text/x-python",
   "name": "python",
   "nbconvert_exporter": "python",
   "pygments_lexer": "ipython3",
   "version": "3.10.16"
  }
 },
 "nbformat": 4,
 "nbformat_minor": 4
}
