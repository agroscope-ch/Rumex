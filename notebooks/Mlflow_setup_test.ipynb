{
 "cells": [
  {
   "cell_type": "code",
   "execution_count": null,
   "metadata": {},
   "outputs": [],
   "source": [
    "import mlflow\n",
    "import random\n",
    "from sklearn.metrics import mean_squared_error\n",
    "import numpy as np\n",
    "from sklearn.linear_model import LinearRegression\n",
    "\n",
    "# Set the tracking URI to your MLflow server\n",
    "mlflow.set_tracking_uri(\"http://4.210.174.216:5000\")\n",
    "\n",
    "# Start a new experiment run\n",
    "with mlflow.start_run(run_name=\"Test Run\"):\n",
    "    # Log some parameters\n",
    "    mlflow.log_param(\"learning_rate\", 0.01)\n",
    "    mlflow.log_param(\"batch_size\", 32)\n",
    "    \n",
    "    # Log a metric\n",
    "    accuracy = random.uniform(0.8, 0.99)\n",
    "    mlflow.log_metric(\"accuracy\", accuracy)\n",
    "    \n",
    "    # Log multiple metrics at once\n",
    "    for i in range(10):\n",
    "        mlflow.log_metric(\"loss\", 1.0 - i*0.1, step=i)\n",
    "    \n",
    "    # Log an artifact (example text file)\n",
    "    with open(\"sample_artifact.txt\", \"w\") as f:\n",
    "        f.write(\"This is a test artifact to ensure artifact storage works correctly.\")\n",
    "    mlflow.log_artifact(\"sample_artifact.txt\")\n",
    "    \n",
    "    # Log a model\n",
    "    \n",
    "    # Create a simple model\n",
    "    X = np.array([[1], [2], [3], [4], [5]])\n",
    "    y = np.array([2, 4, 6, 8, 10])\n",
    "    model = LinearRegression().fit(X, y)\n",
    "    \n",
    "    # Log the model\n",
    "    mlflow.sklearn.log_model(model, \"linear_model\")\n",
    "    \n",
    "    # Log model metrics\n",
    "    y_pred = model.predict(X)\n",
    "    mse = mean_squared_error(y, y_pred)\n",
    "    mlflow.log_metric(\"mse\", mse)\n",
    "\n",
    "print(\"Successfully logged to MLflow server!\")"
   ]
  }
 ],
 "metadata": {
  "kernelspec": {
   "display_name": "Python 3",
   "language": "python",
   "name": "python3"
  },
  "language_info": {
   "codemirror_mode": {
    "name": "ipython",
    "version": 3
   },
   "file_extension": ".py",
   "mimetype": "text/x-python",
   "name": "python",
   "nbconvert_exporter": "python",
   "pygments_lexer": "ipython3",
   "version": "3.10.16"
  }
 },
 "nbformat": 4,
 "nbformat_minor": 2
}
