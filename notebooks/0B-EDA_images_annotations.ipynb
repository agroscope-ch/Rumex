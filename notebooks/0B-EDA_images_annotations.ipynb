{
 "cells": [
  {
   "cell_type": "code",
   "execution_count": null,
   "metadata": {},
   "outputs": [],
   "source": [
    "import os\n",
    "import json\n",
    "from datetime import datetime, timedelta\n",
    "from icecream import ic\n"
   ]
  },
  {
   "cell_type": "code",
   "execution_count": null,
   "metadata": {},
   "outputs": [],
   "source": [
    "ann_dir_darwin = \"/home/naro/.darwin/datasets/digital-production/haldennord10/releases/latest/annotations\"\n",
    "list_ann = os.listdir(ann_dir_darwin)\n",
    "list_ann = [x for x in list_ann if x.endswith(\".json\")]\n",
    "list_ann = [x for x in list_ann if not x[3].isdigit()]\n",
    "scenarios = [x[0:8] for x in list_ann]\n",
    "scenarios = set(scenarios)\n",
    "scenarios"
   ]
  },
  {
   "cell_type": "code",
   "execution_count": null,
   "metadata": {},
   "outputs": [],
   "source": [
    "def has_past_and_future(name, list_ann):\n",
    "    time_str = name[10:].split(\".\")[0]\n",
    "    dt = datetime.strptime(time_str, '%y%m%d_%Hh%M')\n",
    "\n",
    "    # Add one minute to the datetime object\n",
    "    dt_future = dt + timedelta(minutes=1)\n",
    "    dt_past = dt - timedelta(minutes=1)\n",
    "\n",
    "    # Format the new datetime object into the desired string format\n",
    "    str_future = dt_future.strftime('%y%m%d_%Hh%M')\n",
    "    str_past = dt_past.strftime('%y%m%d_%Hh%M')\n",
    "\n",
    "    json_file_future = name[:10] + str_future + \".json\"\n",
    "    json_file_past = name[:10] + str_past + \".json\"\n",
    "\n",
    "    if json_file_past in list_ann and json_file_future in list_ann:\n",
    "        return True\n",
    "    else:\n",
    "        return False\n"
   ]
  },
  {
   "cell_type": "code",
   "execution_count": null,
   "metadata": {},
   "outputs": [],
   "source": [
    "statistics = {}\n",
    "for s in scenarios:\n",
    "    count = 0\n",
    "    list_ann_scenario = [x for x in list_ann if x.startswith(s)]\n",
    "    total_s = len(list_ann_scenario)\n",
    "    for ann in list_ann_scenario:\n",
    "        if has_past_and_future(ann, list_ann_scenario):\n",
    "            count += 1\n",
    "    statistics[s+'_has_past_and_future'] = count\n",
    "    statistics[s+'_no_past_and_future'] = total_s - count\n",
    "    statistics[s+'_total'] = total_s\n"
   ]
  },
  {
   "cell_type": "code",
   "execution_count": null,
   "metadata": {},
   "outputs": [],
   "source": [
    "statistics"
   ]
  },
  {
   "cell_type": "code",
   "execution_count": null,
   "metadata": {},
   "outputs": [],
   "source": [
    "# Draw the distribution of bounding boxes\n",
    "\n",
    "areas = [] \n",
    "for ann_file in list_ann:\n",
    "   # Read the annotation file json\n",
    "    with open(os.path.join(ann_dir_darwin, ann_file)) as f:\n",
    "        data = json.load(f)\n",
    "    # Get the bounding boxes\n",
    "    for x in data['annotations']:\n",
    "        b = x['bounding_box']\n",
    "        area = b['h']*b['w']\n",
    "        if area <= 5 or area >=5000:\n",
    "            print(ann_file, area)\n",
    "        else:\n",
    "            areas.append(area)"
   ]
  },
  {
   "cell_type": "code",
   "execution_count": null,
   "metadata": {},
   "outputs": [],
   "source": [
    "# Draw the distribution of areas using seaborn\n",
    "import seaborn as sns\n",
    "import matplotlib.pyplot as plt\n",
    "sns.histplot(areas, bins=100)\n",
    "plt.show()"
   ]
  },
  {
   "cell_type": "code",
   "execution_count": null,
   "metadata": {},
   "outputs": [],
   "source": [
    "import numpy as np\n",
    "np.min(areas)"
   ]
  },
  {
   "cell_type": "markdown",
   "metadata": {},
   "source": [
    "# Creating a dataset with images that only have past and future"
   ]
  },
  {
   "cell_type": "code",
   "execution_count": null,
   "metadata": {},
   "outputs": [],
   "source": [
    "root_destination = './data/'\n",
    "os.mkdir('./data/images')\n",
    "os.mkdir('data/annotations')"
   ]
  },
  {
   "cell_type": "code",
   "execution_count": null,
   "metadata": {},
   "outputs": [],
   "source": [
    "import shutil\n",
    "ann_dir_darwin = \"/home/naro/.darwin/datasets/digital-production/raven/releases/latest/annotations\"\n",
    "img_dir_darwim = '/home/naro/.darwin/datasets/digital-production/raven/images'\n",
    "for s in scenarios:\n",
    "    count = 0\n",
    "    list_ann_scenario = [x for x in list_ann if x.startswith(s)]\n",
    "    total_s = len(list_ann_scenario)\n",
    "    for ann in list_ann_scenario:\n",
    "        if has_past_and_future(ann, list_ann_scenario):\n",
    "           \n",
    "           # Move images to a specific location\n",
    "           source_ann = os.path.join(ann_dir_darwin, ann)\n",
    "           dest_anno = os.path.join('./data/annotations', ann)\n",
    "           img = ann.replace('json', 'png')\n",
    "           source_img = os.path.join(img_dir_darwim, img)\n",
    "           dest_img = os.path.join('./data/images', img)\n",
    "           shutil.copy(source_ann, dest_anno)\n",
    "           shutil.copy(source_img, dest_img)\n",
    "           \n",
    "           time_str = ann[10:].split(\".\")[0]\n",
    "           dt = datetime.strptime(time_str, '%y%m%d_%Hh%M')\n",
    "\n",
    "           # Add one minute to the datetime object\n",
    "           dt_future = dt + timedelta(minutes=1)\n",
    "           dt_past = dt - timedelta(minutes=1)\n",
    "\n",
    "           # Format the new datetime object into the desired string format\n",
    "           str_future = dt_future.strftime('%y%m%d_%Hh%M')\n",
    "           str_past = dt_past.strftime('%y%m%d_%Hh%M')\n",
    "           json_file_future = ann[:10] + str_future + \".json\"\n",
    "           json_file_past = ann[:10] + str_past + \".json\"\n",
    "\n",
    "          # Moving past annotation and image \n",
    "           \n",
    "           source_ann = os.path.join(ann_dir_darwin, json_file_past)\n",
    "           dest_anno = os.path.join('./data/annotations', json_file_past)\n",
    "           img = json_file_past.replace('json', 'png')\n",
    "           source_img = os.path.join(img_dir_darwim, img)\n",
    "           dest_img = os.path.join('./data/images', img)\n",
    "           shutil.copy(source_ann, dest_anno)\n",
    "           shutil.copy(source_img, dest_img)\n",
    "\n",
    "\n",
    "           # Moving future annotation and image  \n",
    "           \n",
    "           source_ann = os.path.join(ann_dir_darwin, json_file_future)\n",
    "           dest_anno = os.path.join('./data/annotations', json_file_future)\n",
    "\n",
    "           img = json_file_future.replace('json', 'png')\n",
    "           source_img = os.path.join(img_dir_darwim, img)\n",
    "           dest_img = os.path.join('./data/images', img)\n",
    "           shutil.copy(source_ann, dest_anno)\n",
    "           shutil.copy(source_img, dest_img)"
   ]
  },
  {
   "cell_type": "code",
   "execution_count": null,
   "metadata": {},
   "outputs": [],
   "source": [
    "list_anns = os.listdir('/home/naro/Projects/Raven/data/annotations')\n",
    "list_anns = [x for x in list_anns if x.endswith(\".json\")]\n",
    "list_anns = sorted(list_anns)\n",
    "\n",
    "len(list_anns)"
   ]
  },
  {
   "cell_type": "code",
   "execution_count": null,
   "metadata": {},
   "outputs": [],
   "source": [
    "# Choosing the first 100 and last 100 images to copy\n",
    "\n",
    "for i in range(100):\n",
    "    ann = list_anns[i]\n",
    "    img = ann.replace('json', 'png')\n",
    "    source_ann = os.path.join('./data/annotations', ann)\n",
    "    dest_ann = os.path.join('./data200/annotations', ann)\n",
    "    source_img = os.path.join('./data/images', img)\n",
    "    dest_img = os.path.join('./data200/images', img)\n",
    "    shutil.copy(source_ann, dest_ann)\n",
    "    shutil.copy(source_img, dest_img)\n",
    "\n",
    "for i in range(100):\n",
    "    ann = list_anns[-i-1]\n",
    "    img = ann.replace('json', 'png')\n",
    "    source_ann = os.path.join('./data/annotations', ann)\n",
    "    dest_ann = os.path.join('./data200/annotations', ann)\n",
    "    source_img = os.path.join('./data/images', img)\n",
    "    dest_img = os.path.join('./data200/images', img)\n",
    "    shutil.copy(source_ann, dest_ann)\n",
    "    shutil.copy(source_img, dest_img)\n",
    "\n",
    "\n"
   ]
  },
  {
   "cell_type": "code",
   "execution_count": null,
   "metadata": {},
   "outputs": [],
   "source": [
    "list_anns"
   ]
  }
 ],
 "metadata": {
  "kernelspec": {
   "display_name": "Python 3",
   "language": "python",
   "name": "python3"
  },
  "language_info": {
   "codemirror_mode": {
    "name": "ipython",
    "version": 3
   },
   "file_extension": ".py",
   "mimetype": "text/x-python",
   "name": "python",
   "nbconvert_exporter": "python",
   "pygments_lexer": "ipython3",
   "version": "3.10.16"
  }
 },
 "nbformat": 4,
 "nbformat_minor": 2
}
