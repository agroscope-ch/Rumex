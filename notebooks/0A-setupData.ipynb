{
 "cells": [
  {
   "cell_type": "code",
   "execution_count": null,
   "metadata": {},
   "outputs": [],
   "source": [
    "import os"
   ]
  },
  {
   "cell_type": "code",
   "execution_count": null,
   "metadata": {},
   "outputs": [],
   "source": [
    "import os\n",
    "\n",
    "home_dir = os.path.expanduser(\"~\")\n",
    "darwin_config = os.path.join(home_dir, \".darwin/config.yaml\")\n",
    "\n",
    "#read the darwin yaml config file\n",
    "import yaml\n",
    "with open(darwin_config, 'r') as stream:\n",
    "    try:\n",
    "        config = yaml.safe_load(stream)\n",
    "    except yaml.YAMLError as exc:\n",
    "        print(exc)\n",
    "\n",
    "config\n"
   ]
  },
  {
   "cell_type": "code",
   "execution_count": null,
   "metadata": {},
   "outputs": [],
   "source": [
    "# Put here the logic of exporting the dataset, fixing it in case there are negative annotations, etc"
   ]
  },
  {
   "cell_type": "code",
   "execution_count": 2,
   "metadata": {},
   "outputs": [],
   "source": [
    "dataset = \"haldennord09\""
   ]
  },
  {
   "cell_type": "code",
   "execution_count": null,
   "metadata": {},
   "outputs": [],
   "source": [
    "!darwin dataset export digital-production/{dataset}  2"
   ]
  },
  {
   "cell_type": "code",
   "execution_count": 3,
   "metadata": {},
   "outputs": [
    {
     "name": "stdout",
     "output_type": "stream",
     "text": [
      "Release \u001b[32m'2'\u001b[0m for dataset \u001b[32m'HaldenNord09'\u001b[0m is ready for download. Starting \n",
      "download\u001b[33m...\u001b[0m\n",
      "Going to download \u001b[1;36m3858\u001b[0m files to \u001b[35m/darwin/digital-production/haldennord09/\u001b[0m\u001b[95mimages\u001b[0m .\n",
      "\u001b[2K\u001b[38;2;114;156;31m━━━━━━━━━━━━━━━━━━━━━━━━━━━━━━━━━━━━━━━━━━━━━━━━━━━━━━━━━━━━━━━━━━━━━━━━━━━━━━━━\u001b[0m[38;2;249;38;114m╸\u001b[0m[38;5;237m━\u001b[0m\n",
      "\u001b[?25hTotal file count after download completed \u001b[1;36m3858\u001b[0m.\n",
      "Dataset digital-production/haldennord09:2 downloaded at /darwin/digital-production/haldennord09 .\n"
     ]
    }
   ],
   "source": [
    "!darwin dataset pull digital-production/{dataset}  "
   ]
  },
  {
   "cell_type": "code",
   "execution_count": 3,
   "metadata": {},
   "outputs": [
    {
     "name": "stdout",
     "output_type": "stream",
     "text": [
      "Partition lists saved at /darwin/digital-production/haldennord09/releases/latest/lists/2700_386_772\n"
     ]
    }
   ],
   "source": [
    "!darwin dataset split digital-production/{dataset}   --val-percentage 0.1 --test-percentage 0.2"
   ]
  }
 ],
 "metadata": {
  "kernelspec": {
   "display_name": "rumex",
   "language": "python",
   "name": "python3"
  },
  "language_info": {
   "codemirror_mode": {
    "name": "ipython",
    "version": 3
   },
   "file_extension": ".py",
   "mimetype": "text/x-python",
   "name": "python",
   "nbconvert_exporter": "python",
   "pygments_lexer": "ipython3",
   "version": "3.10.16"
  }
 },
 "nbformat": 4,
 "nbformat_minor": 4
}
