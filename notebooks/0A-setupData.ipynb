{
 "cells": [
  {
   "cell_type": "code",
   "execution_count": null,
   "metadata": {},
   "outputs": [],
   "source": [
    "import os"
   ]
  },
  {
   "cell_type": "code",
   "execution_count": null,
   "metadata": {},
   "outputs": [],
   "source": [
    "import os\n",
    "\n",
    "home_dir = os.path.expanduser(\"~\")\n",
    "darwin_config = os.path.join(home_dir, \".darwin/config.yaml\")\n",
    "\n",
    "#read the darwin yaml config file\n",
    "import yaml\n",
    "with open(darwin_config, 'r') as stream:\n",
    "    try:\n",
    "        config = yaml.safe_load(stream)\n",
    "    except yaml.YAMLError as exc:\n",
    "        print(exc)\n",
    "\n",
    "config\n"
   ]
  },
  {
   "cell_type": "code",
   "execution_count": null,
   "metadata": {},
   "outputs": [],
   "source": [
    "# pull all datasets at once\n",
    "dataset = ['haldennord09', 'haldensued08', 'haldensued10', 'haldennord10', 'lightly'] \n",
    "!darwin dataset pull digital-production/{dataset[0]} \n",
    "!darwin dataset pull digital-production/{dataset[1]} \n",
    "!darwin dataset pull digital-production/{dataset[2]} \n",
    "!darwin dataset pull digital-production/{dataset[3]} \n",
    "!darwin dataset pull digital-production/{dataset[4]} "
   ]
  },
  {
   "cell_type": "code",
   "execution_count": null,
   "metadata": {},
   "outputs": [],
   "source": [
    "# Put here the logic of exporting the dataset, fixing it in case there are negative annotations, etc"
   ]
  },
  {
   "cell_type": "code",
   "execution_count": null,
   "metadata": {},
   "outputs": [],
   "source": [
    "dataset = \"haldennord09\""
   ]
  },
  {
   "cell_type": "code",
   "execution_count": null,
   "metadata": {},
   "outputs": [],
   "source": [
    "!darwin dataset export digital-production/{dataset}  2"
   ]
  },
  {
   "cell_type": "code",
   "execution_count": null,
   "metadata": {},
   "outputs": [],
   "source": [
    "!darwin dataset pull digital-production/{dataset}  "
   ]
  },
  {
   "cell_type": "code",
   "execution_count": null,
   "metadata": {},
   "outputs": [],
   "source": [
    "!darwin dataset split digital-production/{dataset}   --val-percentage 0.1 --test-percentage 0.2"
   ]
  }
 ],
 "metadata": {
  "kernelspec": {
   "display_name": "cv-default",
   "language": "python",
   "name": "python3"
  },
  "language_info": {
   "codemirror_mode": {
    "name": "ipython",
    "version": 3
   },
   "file_extension": ".py",
   "mimetype": "text/x-python",
   "name": "python",
   "nbconvert_exporter": "python",
   "pygments_lexer": "ipython3",
   "version": "3.9.23"
  }
 },
 "nbformat": 4,
 "nbformat_minor": 4
}
