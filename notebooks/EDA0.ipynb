{
 "cells": [
  {
   "cell_type": "code",
   "execution_count": null,
   "id": "127e3245-4723-45c0-a342-cc811ad5c29b",
   "metadata": {},
   "outputs": [],
   "source": [
    "import os\n",
    "import pandas as pd"
   ]
  },
  {
   "cell_type": "code",
   "execution_count": null,
   "id": "a2853f7c-5553-46f8-b745-36e10e7c56ef",
   "metadata": {},
   "outputs": [],
   "source": [
    "lightly_file_name = '../assets/filenames-rumex_4by_4_50k-coreset-samples_20000-1688802987585.txt'\n",
    "\n",
    "with open(lightly_file_name, 'r') as file:\n",
    "    lines = file.readlines()\n",
    "\n",
    "# Remove newline characters\n",
    "lines = [line.strip() for line in lines]\n",
    "datasets = [line.split('/')[0] for line in lines]"
   ]
  },
  {
   "cell_type": "code",
   "execution_count": null,
   "id": "0d9912e7-09a9-449f-ae4b-21eb163214c6",
   "metadata": {},
   "outputs": [],
   "source": [
    "len(set(lines))"
   ]
  },
  {
   "cell_type": "code",
   "execution_count": 43,
   "id": "98ef7cd4-344e-401e-9e64-6e7ec0dbc976",
   "metadata": {},
   "outputs": [],
   "source": [
    "# Counting the number of images of each fiel in the lightly dataset\n",
    "df = pd.DataFrame(columns=['dataset', 'total_nb_images', 'total_selected_lightly'])\n",
    "root = '/mnt/Foto-Work-RE/26_Agricultural_Engineering-RE/263_DP/Fenaco_Blackenprojekt_2021-2023/_CURATED_DATA_SETS/'\n",
    "index = 0\n",
    "for d in set(datasets):\n",
    "    d_path = os.path.join(root, d, '1_images')\n",
    "\n",
    "    # Total number of images  in the original dataset before lightly filtering\n",
    "    jpg_count = sum( 1 for filename in os.listdir(d_path) if filename.endswith('.JPG'))\n",
    "    \n",
    "    # Check total number of annotated images from the lightly dataset\n",
    "    total_selected_lightly = len([item for item in lines if d in item])\n",
    "\n",
    "    row = [d, jpg_count, total_selected_lightly]  # You can customize these values\n",
    "    df.loc[index] = row\n",
    "    index = index + 1"
   ]
  },
  {
   "cell_type": "code",
   "execution_count": 47,
   "id": "71bf1958-4951-4920-9ed4-85ccb4ecfdea",
   "metadata": {},
   "outputs": [],
   "source": [
    "df.to_csv('../assets/lightly_totalimages_selectedimages.csv', index=False)"
   ]
  }
 ],
 "metadata": {
  "kernelspec": {
   "display_name": "RumexEnv",
   "language": "python",
   "name": "rumexenv"
  },
  "language_info": {
   "codemirror_mode": {
    "name": "ipython",
    "version": 3
   },
   "file_extension": ".py",
   "mimetype": "text/x-python",
   "name": "python",
   "nbconvert_exporter": "python",
   "pygments_lexer": "ipython3",
   "version": "3.10.9"
  }
 },
 "nbformat": 4,
 "nbformat_minor": 5
}
