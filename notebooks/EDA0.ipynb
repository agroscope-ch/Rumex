{
 "cells": [
  {
   "cell_type": "code",
   "execution_count": null,
   "id": "127e3245-4723-45c0-a342-cc811ad5c29b",
   "metadata": {},
   "outputs": [],
   "source": [
    "import os\n",
    "import pandas as pd\n",
    "import numpy as np"
   ]
  },
  {
   "cell_type": "code",
   "execution_count": null,
   "id": "709fb900-6483-4c11-8000-2f33a83f61e3",
   "metadata": {},
   "outputs": [],
   "source": [
    "# Load the Lightly selection in a list"
   ]
  },
  {
   "cell_type": "code",
   "execution_count": null,
   "id": "a2853f7c-5553-46f8-b745-36e10e7c56ef",
   "metadata": {},
   "outputs": [],
   "source": [
    "lightly_file_name = '../assets/filenames-rumex_4by_4_50k-coreset-samples_20000-1688802987585.txt'\n",
    "\n",
    "with open(lightly_file_name, 'r') as file:\n",
    "    lines = file.readlines()\n",
    "\n",
    "# Remove newline characters\n",
    "lines = [line.strip() for line in lines]\n",
    "datasets = [line.split('/')[0] for line in lines]"
   ]
  },
  {
   "cell_type": "code",
   "execution_count": null,
   "id": "0d9912e7-09a9-449f-ae4b-21eb163214c6",
   "metadata": {},
   "outputs": [],
   "source": [
    "len(set(lines))"
   ]
  },
  {
   "cell_type": "code",
   "execution_count": null,
   "id": "d9043278-5ced-4075-808b-57c63e1cb707",
   "metadata": {},
   "outputs": [],
   "source": [
    "# Count the number of images in each dataset before and after lightly selection"
   ]
  },
  {
   "cell_type": "code",
   "execution_count": null,
   "id": "98ef7cd4-344e-401e-9e64-6e7ec0dbc976",
   "metadata": {},
   "outputs": [],
   "source": [
    "# Counting the number of images of each fiel in the lightly dataset\n",
    "df = pd.DataFrame(columns=['dataset', 'total_nb_images', 'total_selected_lightly', 'size_gb'])\n",
    "root = '/mnt/Foto-Work-RE/26_Agricultural_Engineering-RE/263_DP/Fenaco_Blackenprojekt_2021-2023/_CURATED_DATA_SETS/'\n",
    "index = 0\n",
    "for d in set(datasets):\n",
    "    d_path = os.path.join(root, d, '1_images')\n",
    "\n",
    "    # Total number of images  in the original dataset before lightly filtering\n",
    "    jpg_count = sum( 1 for filename in os.listdir(d_path) if filename.endswith('.JPG'))\n",
    "    \n",
    "    # Check total number of annotated images from the lightly dataset\n",
    "    total_selected_lightly = len([item for item in lines if d in item])\n",
    "\n",
    "    total_size = 0\n",
    "    for image in os.listdir(d_path):\n",
    "        if image.lower().endswith(('.jpg', '.jpeg')):\n",
    "            file_path = os.path.join(d_path, image)\n",
    "            total_size += os.path.getsize(file_path)\n",
    "\n",
    "    total_gb = total_size / (1024**3)\n",
    "\n",
    "\n",
    "    row = [d, jpg_count, total_selected_lightly, total_gb]  # You can customize these values\n",
    "    df.loc[index] = row\n",
    "    index = index + 1"
   ]
  },
  {
   "cell_type": "code",
   "execution_count": null,
   "id": "968a41a7-c99a-49e5-bc1c-edf1f84a19d1",
   "metadata": {},
   "outputs": [],
   "source": [
    "df"
   ]
  },
  {
   "cell_type": "code",
   "execution_count": null,
   "id": "71bf1958-4951-4920-9ed4-85ccb4ecfdea",
   "metadata": {},
   "outputs": [],
   "source": [
    "df.to_csv('../assets/lightly_totalimages_selectedimages.csv', index=False)"
   ]
  },
  {
   "cell_type": "code",
   "execution_count": null,
   "id": "bc5466cc-8556-4414-875b-36dd8df5fb9b",
   "metadata": {},
   "outputs": [],
   "source": [
    "# 20220823_HaldenSued_S_10_F_50_O_stra_ID1\thaldensued08\n",
    "# 20220901_HaldenNord_S_10_F_50_O_sama_ID1\thaldennord09\n",
    "# 20221010_HaldenNord_S_25_F_60_O_sama_ID1\thaldennord10\n",
    "# 20221010_HaldenSued_S_25_F_60_sama_ID1\thaldensued10\n"
   ]
  },
  {
   "cell_type": "code",
   "execution_count": null,
   "id": "b97fee18-ac59-45f2-ab90-608248024fa2",
   "metadata": {},
   "outputs": [],
   "source": [
    "df"
   ]
  },
  {
   "cell_type": "code",
   "execution_count": null,
   "id": "fda3702d-b849-4b94-aefb-56d607eeb5dd",
   "metadata": {},
   "outputs": [],
   "source": [
    "# Total size of GBs for all dataset in lightly"
   ]
  },
  {
   "cell_type": "code",
   "execution_count": null,
   "id": "73df51f6-b6af-40cd-baca-3ac3bd2efb25",
   "metadata": {},
   "outputs": [],
   "source": [
    "np.sum(df['size_gb'])"
   ]
  },
  {
   "cell_type": "code",
   "execution_count": null,
   "id": "93bae51f-86e4-48ae-9308-73a962ecbd81",
   "metadata": {},
   "outputs": [],
   "source": [
    "# Size of the dataset 20221010_HaldenSued_S_25_F_60_sama_ID1 ==> Total number of images"
   ]
  },
  {
   "cell_type": "code",
   "execution_count": null,
   "id": "cac3d7de-90a9-42e4-bb6c-20f9a9a8877f",
   "metadata": {},
   "outputs": [],
   "source": [
    "np.sum(df['size_gb']) + 21"
   ]
  },
  {
   "cell_type": "code",
   "execution_count": null,
   "id": "1fe5253e-7fb6-47ca-b9f1-9b650c7aee49",
   "metadata": {},
   "outputs": [],
   "source": [
    "df[df['dataset'] == '20220823_HaldenSued_S_10_F_50_O_stra_ID1']"
   ]
  },
  {
   "cell_type": "code",
   "execution_count": null,
   "id": "23a4e036-ecdb-4f30-a40f-326fe654d0b2",
   "metadata": {},
   "outputs": [],
   "source": [
    "df[df['dataset'] == '20220901_HaldenNord_S_10_F_50_O_sama_ID1']"
   ]
  },
  {
   "cell_type": "code",
   "execution_count": null,
   "id": "c6edfd94-2eed-4710-a852-61cfe37b75c7",
   "metadata": {},
   "outputs": [],
   "source": [
    "df[df['dataset'] == '20221010_HaldenNord_S_25_F_60_O_sama_ID1']"
   ]
  },
  {
   "cell_type": "code",
   "execution_count": null,
   "id": "50eeb47b-6b15-4ca5-a14c-5db3bdfb3f2c",
   "metadata": {},
   "outputs": [],
   "source": [
    "df[df['dataset'] == '20221010_HaldenSued_S_25_F_60_sama_ID1']"
   ]
  },
  {
   "cell_type": "code",
   "execution_count": null,
   "id": "a7394605-475c-45fb-a921-ec774e94533d",
   "metadata": {},
   "outputs": [],
   "source": [
    "# Total number of images treated"
   ]
  },
  {
   "cell_type": "code",
   "execution_count": null,
   "id": "6582b41e-01d3-4280-a8f3-c61963c83b95",
   "metadata": {},
   "outputs": [],
   "source": [
    "nb_images_20221010_HaldenSued_S_25_F_60_sama_ID1 = 999\n",
    "nb_images_all_others = np.sum(df['total_nb_images'])\n",
    "nb_all_images = nb_images_all_others + nb_images_20221010_HaldenSued_S_25_F_60_sama_ID1\n",
    "nb_all_images"
   ]
  },
  {
   "cell_type": "code",
   "execution_count": null,
   "id": "629efe21-41a2-44e1-a004-c4d42202d5be",
   "metadata": {},
   "outputs": [],
   "source": [
    "np.sum(df['total_selected_lightly'])"
   ]
  },
  {
   "cell_type": "code",
   "execution_count": null,
   "id": "a90ef2f3",
   "metadata": {},
   "outputs": [],
   "source": [
    "# Populating the CSV file with the total number of images with annotations"
   ]
  },
  {
   "cell_type": "code",
   "execution_count": null,
   "id": "7735498a",
   "metadata": {},
   "outputs": [],
   "source": [
    "# Read the CSV file\n",
    "df = pd.read_csv('../assets/lightly_totalimages_selectedimages.csv')"
   ]
  },
  {
   "cell_type": "code",
   "execution_count": null,
   "id": "152d9ebd",
   "metadata": {},
   "outputs": [],
   "source": [
    "for dataset in ['haldennord09', 'haldensued08', 'haldensued10', 'haldennord10']:\n",
    "\n",
    "   # Read the total number of annotated images\n",
    "     ann_path = f'/data/images/darwin/digital-production/{dataset}/releases/latest/annotations'\n",
    "\n",
    "    # count the json files in the annotations directory\n",
    "     total_annotated = len([name for name in os.listdir(ann_path) if name.endswith('.json')]) \n",
    "    \n",
    "    # Update the DataFrame\n",
    "     print(total_annotated)"
   ]
  },
  {
   "cell_type": "code",
   "execution_count": null,
   "id": "c68c3eed",
   "metadata": {},
   "outputs": [],
   "source": [
    "# Populating the dataframe with the number of annotated images from each dataset inside the lightly dataset\n",
    "ann_path = f'/data/images/darwin/digital-production/lightly/releases/latest/annotations'\n",
    "annotations = [name for name in os.listdir(ann_path) if name.endswith('.json')]\n",
    "annotations =[ '_'.join(i.split('.')[0].split ('_')[:-3] )  for i in annotations] \n",
    "# loop over the df rows \n",
    "for index, row in df.iterrows():\n",
    "    dataset = row['dataset']\n",
    "    # Count the number of annotations for the current dataset\n",
    "    total_annotated = sum(1 for ann in annotations if dataset in ann)\n",
    "    \n",
    "    # Update the DataFrame\n",
    "    df.at[index, 'total_annotated'] = total_annotated"
   ]
  },
  {
   "cell_type": "code",
   "execution_count": null,
   "id": "e9a74fd4",
   "metadata": {},
   "outputs": [],
   "source": [
    "np.sum(df['total_annotated'])"
   ]
  },
  {
   "cell_type": "code",
   "execution_count": null,
   "id": "b99257b7",
   "metadata": {},
   "outputs": [],
   "source": [
    "# put df in a news scv file\n",
    "df.to_csv('../assets/lightly_totalimages_selectedimages_annotated.csv', index=False)"
   ]
  },
  {
   "cell_type": "code",
   "execution_count": null,
   "id": "b9b87e92",
   "metadata": {},
   "outputs": [],
   "source": [
    "import seaborn as sns\n",
    "import matplotlib.pyplot as plt\n",
    "import pandas as pd\n",
    "\n",
    "# Sort the dataframe by total_nb_images in descending order\n",
    "df_sorted = df.sort_values('total_nb_images', ascending=True)  # ascending=True for horizontal bars\n",
    "\n",
    "# Calculate the hierarchical components\n",
    "df_sorted['not_selected'] = df_sorted['total_nb_images'] - df_sorted['total_selected_lightly']\n",
    "df_sorted['selected_not_annotated'] = df_sorted['total_selected_lightly'] - df_sorted['total_annotated']\n",
    "df_sorted['annotated'] = df_sorted['total_annotated']\n",
    "\n",
    "# Create horizontal stacked bar plot with improved formatting\n",
    "fig, ax = plt.subplots(figsize=(10, 12))\n",
    "\n",
    "# Create the hierarchical stacked bar plot\n",
    "df_sorted.set_index('dataset')[['not_selected', 'selected_not_annotated', 'annotated']].plot(\n",
    "    kind='barh',\n",
    "    stacked=True, \n",
    "    ax=ax,\n",
    "    color=['#e6e6e6', '#ff7f0e', '#2ca02c'],  # Light gray, orange, green\n",
    "    alpha=0.8,\n",
    "    width=0.7\n",
    ")\n",
    "\n",
    "plt.title('Number of Images per Dataset (Hierarchical View)', fontsize=16, fontweight='bold', pad=20)\n",
    "plt.ylabel('Dataset', fontsize=12, fontweight='bold')\n",
    "plt.xlabel('Count', fontsize=12, fontweight='bold')\n",
    "\n",
    "# Improve legend with hierarchical labels\n",
    "plt.legend(['Not Selected', 'Selected (Not Annotated)', 'Annotated'], \n",
    "           title='Image Status',\n",
    "           title_fontsize=12,\n",
    "           fontsize=10,\n",
    "           loc='lower right')\n",
    "\n",
    "# Add grid for better readability\n",
    "plt.grid(axis='x', alpha=0.3, linestyle='--')\n",
    "\n",
    "# Add only annotated count labels\n",
    "for i, (idx, row) in enumerate(df_sorted.iterrows()):\n",
    "    annotated = row['total_annotated']\n",
    "    \n",
    "    # Add annotated count on the green segment\n",
    "    if annotated > 0:  # Only show if there are annotated images\n",
    "        ax.text(row['not_selected'] + row['selected_not_annotated'] + annotated/2, i, \n",
    "                f'{annotated:,}', va='center', ha='center', fontsize=9, color='white', fontweight='bold')\n",
    "\n",
    "plt.tight_layout()\n",
    "plt.show()"
   ]
  }
 ],
 "metadata": {
  "kernelspec": {
   "display_name": "cv-default",
   "language": "python",
   "name": "python3"
  },
  "language_info": {
   "codemirror_mode": {
    "name": "ipython",
    "version": 3
   },
   "file_extension": ".py",
   "mimetype": "text/x-python",
   "name": "python",
   "nbconvert_exporter": "python",
   "pygments_lexer": "ipython3",
   "version": "3.9.23"
  }
 },
 "nbformat": 4,
 "nbformat_minor": 5
}
