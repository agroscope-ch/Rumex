{
 "cells": [
  {
   "cell_type": "code",
   "execution_count": 71,
   "id": "127e3245-4723-45c0-a342-cc811ad5c29b",
   "metadata": {},
   "outputs": [],
   "source": [
    "import os\n",
    "import pandas as pd\n",
    "import numpy as np"
   ]
  },
  {
   "cell_type": "code",
   "execution_count": null,
   "id": "709fb900-6483-4c11-8000-2f33a83f61e3",
   "metadata": {},
   "outputs": [],
   "source": [
    "# Load the Lightly selection in a list"
   ]
  },
  {
   "cell_type": "code",
   "execution_count": null,
   "id": "a2853f7c-5553-46f8-b745-36e10e7c56ef",
   "metadata": {},
   "outputs": [],
   "source": [
    "lightly_file_name = '../assets/filenames-rumex_4by_4_50k-coreset-samples_20000-1688802987585.txt'\n",
    "\n",
    "with open(lightly_file_name, 'r') as file:\n",
    "    lines = file.readlines()\n",
    "\n",
    "# Remove newline characters\n",
    "lines = [line.strip() for line in lines]\n",
    "datasets = [line.split('/')[0] for line in lines]"
   ]
  },
  {
   "cell_type": "code",
   "execution_count": null,
   "id": "0d9912e7-09a9-449f-ae4b-21eb163214c6",
   "metadata": {},
   "outputs": [],
   "source": [
    "len(set(lines))"
   ]
  },
  {
   "cell_type": "code",
   "execution_count": 48,
   "id": "d9043278-5ced-4075-808b-57c63e1cb707",
   "metadata": {},
   "outputs": [],
   "source": [
    "# Count the number of images in each dataset before and after lightly selection"
   ]
  },
  {
   "cell_type": "code",
   "execution_count": 69,
   "id": "98ef7cd4-344e-401e-9e64-6e7ec0dbc976",
   "metadata": {},
   "outputs": [],
   "source": [
    "# Counting the number of images of each fiel in the lightly dataset\n",
    "df = pd.DataFrame(columns=['dataset', 'total_nb_images', 'total_selected_lightly', 'size_gb'])\n",
    "root = '/mnt/Foto-Work-RE/26_Agricultural_Engineering-RE/263_DP/Fenaco_Blackenprojekt_2021-2023/_CURATED_DATA_SETS/'\n",
    "index = 0\n",
    "for d in set(datasets):\n",
    "    d_path = os.path.join(root, d, '1_images')\n",
    "\n",
    "    # Total number of images  in the original dataset before lightly filtering\n",
    "    jpg_count = sum( 1 for filename in os.listdir(d_path) if filename.endswith('.JPG'))\n",
    "    \n",
    "    # Check total number of annotated images from the lightly dataset\n",
    "    total_selected_lightly = len([item for item in lines if d in item])\n",
    "\n",
    "    total_size = 0\n",
    "    for image in os.listdir(d_path):\n",
    "        if image.lower().endswith(('.jpg', '.jpeg')):\n",
    "            file_path = os.path.join(d_path, image)\n",
    "            total_size += os.path.getsize(file_path)\n",
    "\n",
    "    total_gb = total_size / (1024**3)\n",
    "\n",
    "\n",
    "    row = [d, jpg_count, total_selected_lightly, total_gb]  # You can customize these values\n",
    "    df.loc[index] = row\n",
    "    index = index + 1"
   ]
  },
  {
   "cell_type": "code",
   "execution_count": 70,
   "id": "968a41a7-c99a-49e5-bc1c-edf1f84a19d1",
   "metadata": {},
   "outputs": [
    {
     "data": {
      "text/html": [
       "<div>\n",
       "<style scoped>\n",
       "    .dataframe tbody tr th:only-of-type {\n",
       "        vertical-align: middle;\n",
       "    }\n",
       "\n",
       "    .dataframe tbody tr th {\n",
       "        vertical-align: top;\n",
       "    }\n",
       "\n",
       "    .dataframe thead th {\n",
       "        text-align: right;\n",
       "    }\n",
       "</style>\n",
       "<table border=\"1\" class=\"dataframe\">\n",
       "  <thead>\n",
       "    <tr style=\"text-align: right;\">\n",
       "      <th></th>\n",
       "      <th>dataset</th>\n",
       "      <th>total_nb_images</th>\n",
       "      <th>total_selected_lightly</th>\n",
       "      <th>size_gb</th>\n",
       "    </tr>\n",
       "  </thead>\n",
       "  <tbody>\n",
       "    <tr>\n",
       "      <th>0</th>\n",
       "      <td>20230426_SchneiderWallenwil_S_20_F_50_O_krma_ID1</td>\n",
       "      <td>1119</td>\n",
       "      <td>1294</td>\n",
       "      <td>26.170084</td>\n",
       "    </tr>\n",
       "    <tr>\n",
       "      <th>1</th>\n",
       "      <td>20230616_HerrenpuentSuedwestTestfield_S_20_F_6...</td>\n",
       "      <td>108</td>\n",
       "      <td>108</td>\n",
       "      <td>2.203074</td>\n",
       "    </tr>\n",
       "    <tr>\n",
       "      <th>2</th>\n",
       "      <td>20230613_HerrenpuentTestfieldWithMarkers_S_00_...</td>\n",
       "      <td>85</td>\n",
       "      <td>106</td>\n",
       "      <td>1.913874</td>\n",
       "    </tr>\n",
       "    <tr>\n",
       "      <th>3</th>\n",
       "      <td>20220830_HaldenSued_S_50_F_50_O_stra_ID1</td>\n",
       "      <td>500</td>\n",
       "      <td>20</td>\n",
       "      <td>8.456916</td>\n",
       "    </tr>\n",
       "    <tr>\n",
       "      <th>4</th>\n",
       "      <td>20230414_Waldegg_S_70_F_80_O_stra_ID1</td>\n",
       "      <td>1379</td>\n",
       "      <td>895</td>\n",
       "      <td>37.162597</td>\n",
       "    </tr>\n",
       "    <tr>\n",
       "      <th>...</th>\n",
       "      <td>...</td>\n",
       "      <td>...</td>\n",
       "      <td>...</td>\n",
       "      <td>...</td>\n",
       "    </tr>\n",
       "    <tr>\n",
       "      <th>62</th>\n",
       "      <td>20230421_SchildHohenegg_S_20_F_50_O_sama_ID1</td>\n",
       "      <td>1556</td>\n",
       "      <td>526</td>\n",
       "      <td>36.344907</td>\n",
       "    </tr>\n",
       "    <tr>\n",
       "      <th>63</th>\n",
       "      <td>20230615_SchildDotnachtZaelgli_S_20_F_60_H_12_...</td>\n",
       "      <td>372</td>\n",
       "      <td>361</td>\n",
       "      <td>9.424788</td>\n",
       "    </tr>\n",
       "    <tr>\n",
       "      <th>64</th>\n",
       "      <td>20230620_HerrenpuentSuedwestTestfield_S_25_F_7...</td>\n",
       "      <td>142</td>\n",
       "      <td>149</td>\n",
       "      <td>3.153456</td>\n",
       "    </tr>\n",
       "    <tr>\n",
       "      <th>65</th>\n",
       "      <td>20230615_SchildOberhofenBuel3_S_20_F_60_H_12_O...</td>\n",
       "      <td>1143</td>\n",
       "      <td>447</td>\n",
       "      <td>32.078169</td>\n",
       "    </tr>\n",
       "    <tr>\n",
       "      <th>66</th>\n",
       "      <td>20230621_HerrenpuentSuedwestStreifen_S_00_F_00...</td>\n",
       "      <td>51</td>\n",
       "      <td>180</td>\n",
       "      <td>1.104964</td>\n",
       "    </tr>\n",
       "  </tbody>\n",
       "</table>\n",
       "<p>67 rows × 4 columns</p>\n",
       "</div>"
      ],
      "text/plain": [
       "                                              dataset  total_nb_images  \\\n",
       "0    20230426_SchneiderWallenwil_S_20_F_50_O_krma_ID1             1119   \n",
       "1   20230616_HerrenpuentSuedwestTestfield_S_20_F_6...              108   \n",
       "2   20230613_HerrenpuentTestfieldWithMarkers_S_00_...               85   \n",
       "3            20220830_HaldenSued_S_50_F_50_O_stra_ID1              500   \n",
       "4               20230414_Waldegg_S_70_F_80_O_stra_ID1             1379   \n",
       "..                                                ...              ...   \n",
       "62       20230421_SchildHohenegg_S_20_F_50_O_sama_ID1             1556   \n",
       "63  20230615_SchildDotnachtZaelgli_S_20_F_60_H_12_...              372   \n",
       "64  20230620_HerrenpuentSuedwestTestfield_S_25_F_7...              142   \n",
       "65  20230615_SchildOberhofenBuel3_S_20_F_60_H_12_O...             1143   \n",
       "66  20230621_HerrenpuentSuedwestStreifen_S_00_F_00...               51   \n",
       "\n",
       "    total_selected_lightly    size_gb  \n",
       "0                     1294  26.170084  \n",
       "1                      108   2.203074  \n",
       "2                      106   1.913874  \n",
       "3                       20   8.456916  \n",
       "4                      895  37.162597  \n",
       "..                     ...        ...  \n",
       "62                     526  36.344907  \n",
       "63                     361   9.424788  \n",
       "64                     149   3.153456  \n",
       "65                     447  32.078169  \n",
       "66                     180   1.104964  \n",
       "\n",
       "[67 rows x 4 columns]"
      ]
     },
     "execution_count": 70,
     "metadata": {},
     "output_type": "execute_result"
    }
   ],
   "source": [
    "df"
   ]
  },
  {
   "cell_type": "code",
   "execution_count": 50,
   "id": "71bf1958-4951-4920-9ed4-85ccb4ecfdea",
   "metadata": {},
   "outputs": [],
   "source": [
    "df.to_csv('../assets/lightly_totalimages_selectedimages.csv', index=False)"
   ]
  },
  {
   "cell_type": "code",
   "execution_count": null,
   "id": "bc5466cc-8556-4414-875b-36dd8df5fb9b",
   "metadata": {},
   "outputs": [],
   "source": [
    "20220823_HaldenSued_S_10_F_50_O_stra_ID1\thaldensued08\n",
    "20220901_HaldenNord_S_10_F_50_O_sama_ID1\thaldennord09\n",
    "20221010_HaldenNord_S_25_F_60_O_sama_ID1\thaldennord10\n",
    "20221010_HaldenSued_S_25_F_60_sama_ID1\thaldensued10\n"
   ]
  },
  {
   "cell_type": "code",
   "execution_count": 62,
   "id": "b97fee18-ac59-45f2-ab90-608248024fa2",
   "metadata": {},
   "outputs": [
    {
     "data": {
      "text/html": [
       "<div>\n",
       "<style scoped>\n",
       "    .dataframe tbody tr th:only-of-type {\n",
       "        vertical-align: middle;\n",
       "    }\n",
       "\n",
       "    .dataframe tbody tr th {\n",
       "        vertical-align: top;\n",
       "    }\n",
       "\n",
       "    .dataframe thead th {\n",
       "        text-align: right;\n",
       "    }\n",
       "</style>\n",
       "<table border=\"1\" class=\"dataframe\">\n",
       "  <thead>\n",
       "    <tr style=\"text-align: right;\">\n",
       "      <th></th>\n",
       "      <th>dataset</th>\n",
       "      <th>total_nb_images</th>\n",
       "      <th>total_selected_lightly</th>\n",
       "    </tr>\n",
       "  </thead>\n",
       "  <tbody>\n",
       "    <tr>\n",
       "      <th>0</th>\n",
       "      <td>20230426_SchneiderWallenwil_S_20_F_50_O_krma_ID1</td>\n",
       "      <td>1119</td>\n",
       "      <td>1294</td>\n",
       "    </tr>\n",
       "    <tr>\n",
       "      <th>1</th>\n",
       "      <td>20230616_HerrenpuentSuedwestTestfield_S_20_F_6...</td>\n",
       "      <td>108</td>\n",
       "      <td>108</td>\n",
       "    </tr>\n",
       "    <tr>\n",
       "      <th>2</th>\n",
       "      <td>20230613_HerrenpuentTestfieldWithMarkers_S_00_...</td>\n",
       "      <td>85</td>\n",
       "      <td>106</td>\n",
       "    </tr>\n",
       "    <tr>\n",
       "      <th>3</th>\n",
       "      <td>20220830_HaldenSued_S_50_F_50_O_stra_ID1</td>\n",
       "      <td>500</td>\n",
       "      <td>20</td>\n",
       "    </tr>\n",
       "    <tr>\n",
       "      <th>4</th>\n",
       "      <td>20230414_Waldegg_S_70_F_80_O_stra_ID1</td>\n",
       "      <td>1379</td>\n",
       "      <td>895</td>\n",
       "    </tr>\n",
       "    <tr>\n",
       "      <th>...</th>\n",
       "      <td>...</td>\n",
       "      <td>...</td>\n",
       "      <td>...</td>\n",
       "    </tr>\n",
       "    <tr>\n",
       "      <th>62</th>\n",
       "      <td>20230421_SchildHohenegg_S_20_F_50_O_sama_ID1</td>\n",
       "      <td>1556</td>\n",
       "      <td>526</td>\n",
       "    </tr>\n",
       "    <tr>\n",
       "      <th>63</th>\n",
       "      <td>20230615_SchildDotnachtZaelgli_S_20_F_60_H_12_...</td>\n",
       "      <td>372</td>\n",
       "      <td>361</td>\n",
       "    </tr>\n",
       "    <tr>\n",
       "      <th>64</th>\n",
       "      <td>20230620_HerrenpuentSuedwestTestfield_S_25_F_7...</td>\n",
       "      <td>142</td>\n",
       "      <td>149</td>\n",
       "    </tr>\n",
       "    <tr>\n",
       "      <th>65</th>\n",
       "      <td>20230615_SchildOberhofenBuel3_S_20_F_60_H_12_O...</td>\n",
       "      <td>1143</td>\n",
       "      <td>447</td>\n",
       "    </tr>\n",
       "    <tr>\n",
       "      <th>66</th>\n",
       "      <td>20230621_HerrenpuentSuedwestStreifen_S_00_F_00...</td>\n",
       "      <td>51</td>\n",
       "      <td>180</td>\n",
       "    </tr>\n",
       "  </tbody>\n",
       "</table>\n",
       "<p>67 rows × 3 columns</p>\n",
       "</div>"
      ],
      "text/plain": [
       "                                              dataset  total_nb_images  \\\n",
       "0    20230426_SchneiderWallenwil_S_20_F_50_O_krma_ID1             1119   \n",
       "1   20230616_HerrenpuentSuedwestTestfield_S_20_F_6...              108   \n",
       "2   20230613_HerrenpuentTestfieldWithMarkers_S_00_...               85   \n",
       "3            20220830_HaldenSued_S_50_F_50_O_stra_ID1              500   \n",
       "4               20230414_Waldegg_S_70_F_80_O_stra_ID1             1379   \n",
       "..                                                ...              ...   \n",
       "62       20230421_SchildHohenegg_S_20_F_50_O_sama_ID1             1556   \n",
       "63  20230615_SchildDotnachtZaelgli_S_20_F_60_H_12_...              372   \n",
       "64  20230620_HerrenpuentSuedwestTestfield_S_25_F_7...              142   \n",
       "65  20230615_SchildOberhofenBuel3_S_20_F_60_H_12_O...             1143   \n",
       "66  20230621_HerrenpuentSuedwestStreifen_S_00_F_00...               51   \n",
       "\n",
       "    total_selected_lightly  \n",
       "0                     1294  \n",
       "1                      108  \n",
       "2                      106  \n",
       "3                       20  \n",
       "4                      895  \n",
       "..                     ...  \n",
       "62                     526  \n",
       "63                     361  \n",
       "64                     149  \n",
       "65                     447  \n",
       "66                     180  \n",
       "\n",
       "[67 rows x 3 columns]"
      ]
     },
     "execution_count": 62,
     "metadata": {},
     "output_type": "execute_result"
    }
   ],
   "source": [
    "df"
   ]
  },
  {
   "cell_type": "code",
   "execution_count": null,
   "id": "fda3702d-b849-4b94-aefb-56d607eeb5dd",
   "metadata": {},
   "outputs": [],
   "source": [
    "# Total size of GBs for all dataset in lightly"
   ]
  },
  {
   "cell_type": "code",
   "execution_count": 72,
   "id": "73df51f6-b6af-40cd-baca-3ac3bd2efb25",
   "metadata": {},
   "outputs": [
    {
     "data": {
      "text/plain": [
       "768.0336234904826"
      ]
     },
     "execution_count": 72,
     "metadata": {},
     "output_type": "execute_result"
    }
   ],
   "source": [
    "np.sum(df['size_gb'])"
   ]
  },
  {
   "cell_type": "code",
   "execution_count": null,
   "id": "93bae51f-86e4-48ae-9308-73a962ecbd81",
   "metadata": {},
   "outputs": [],
   "source": [
    "# Size of the dataset 20221010_HaldenSued_S_25_F_60_sama_ID1 ==> Total number of images"
   ]
  },
  {
   "cell_type": "code",
   "execution_count": 73,
   "id": "cac3d7de-90a9-42e4-bb6c-20f9a9a8877f",
   "metadata": {},
   "outputs": [
    {
     "data": {
      "text/plain": [
       "789.0336234904826"
      ]
     },
     "execution_count": 73,
     "metadata": {},
     "output_type": "execute_result"
    }
   ],
   "source": [
    "np.sum(df['size_gb']) + 21"
   ]
  },
  {
   "cell_type": "code",
   "execution_count": 64,
   "id": "1fe5253e-7fb6-47ca-b9f1-9b650c7aee49",
   "metadata": {},
   "outputs": [
    {
     "data": {
      "text/html": [
       "<div>\n",
       "<style scoped>\n",
       "    .dataframe tbody tr th:only-of-type {\n",
       "        vertical-align: middle;\n",
       "    }\n",
       "\n",
       "    .dataframe tbody tr th {\n",
       "        vertical-align: top;\n",
       "    }\n",
       "\n",
       "    .dataframe thead th {\n",
       "        text-align: right;\n",
       "    }\n",
       "</style>\n",
       "<table border=\"1\" class=\"dataframe\">\n",
       "  <thead>\n",
       "    <tr style=\"text-align: right;\">\n",
       "      <th></th>\n",
       "      <th>dataset</th>\n",
       "      <th>total_nb_images</th>\n",
       "      <th>total_selected_lightly</th>\n",
       "    </tr>\n",
       "  </thead>\n",
       "  <tbody>\n",
       "    <tr>\n",
       "      <th>57</th>\n",
       "      <td>20220823_HaldenSued_S_10_F_50_O_stra_ID1</td>\n",
       "      <td>874</td>\n",
       "      <td>467</td>\n",
       "    </tr>\n",
       "  </tbody>\n",
       "</table>\n",
       "</div>"
      ],
      "text/plain": [
       "                                     dataset  total_nb_images  \\\n",
       "57  20220823_HaldenSued_S_10_F_50_O_stra_ID1              874   \n",
       "\n",
       "    total_selected_lightly  \n",
       "57                     467  "
      ]
     },
     "execution_count": 64,
     "metadata": {},
     "output_type": "execute_result"
    }
   ],
   "source": [
    "df[df['dataset'] == '20220823_HaldenSued_S_10_F_50_O_stra_ID1']"
   ]
  },
  {
   "cell_type": "code",
   "execution_count": 65,
   "id": "23a4e036-ecdb-4f30-a40f-326fe654d0b2",
   "metadata": {},
   "outputs": [
    {
     "data": {
      "text/html": [
       "<div>\n",
       "<style scoped>\n",
       "    .dataframe tbody tr th:only-of-type {\n",
       "        vertical-align: middle;\n",
       "    }\n",
       "\n",
       "    .dataframe tbody tr th {\n",
       "        vertical-align: top;\n",
       "    }\n",
       "\n",
       "    .dataframe thead th {\n",
       "        text-align: right;\n",
       "    }\n",
       "</style>\n",
       "<table border=\"1\" class=\"dataframe\">\n",
       "  <thead>\n",
       "    <tr style=\"text-align: right;\">\n",
       "      <th></th>\n",
       "      <th>dataset</th>\n",
       "      <th>total_nb_images</th>\n",
       "      <th>total_selected_lightly</th>\n",
       "    </tr>\n",
       "  </thead>\n",
       "  <tbody>\n",
       "    <tr>\n",
       "      <th>36</th>\n",
       "      <td>20220901_HaldenNord_S_10_F_50_O_sama_ID1</td>\n",
       "      <td>615</td>\n",
       "      <td>32</td>\n",
       "    </tr>\n",
       "  </tbody>\n",
       "</table>\n",
       "</div>"
      ],
      "text/plain": [
       "                                     dataset  total_nb_images  \\\n",
       "36  20220901_HaldenNord_S_10_F_50_O_sama_ID1              615   \n",
       "\n",
       "    total_selected_lightly  \n",
       "36                      32  "
      ]
     },
     "execution_count": 65,
     "metadata": {},
     "output_type": "execute_result"
    }
   ],
   "source": [
    "df[df['dataset'] == '20220901_HaldenNord_S_10_F_50_O_sama_ID1']"
   ]
  },
  {
   "cell_type": "code",
   "execution_count": 66,
   "id": "c6edfd94-2eed-4710-a852-61cfe37b75c7",
   "metadata": {},
   "outputs": [
    {
     "data": {
      "text/html": [
       "<div>\n",
       "<style scoped>\n",
       "    .dataframe tbody tr th:only-of-type {\n",
       "        vertical-align: middle;\n",
       "    }\n",
       "\n",
       "    .dataframe tbody tr th {\n",
       "        vertical-align: top;\n",
       "    }\n",
       "\n",
       "    .dataframe thead th {\n",
       "        text-align: right;\n",
       "    }\n",
       "</style>\n",
       "<table border=\"1\" class=\"dataframe\">\n",
       "  <thead>\n",
       "    <tr style=\"text-align: right;\">\n",
       "      <th></th>\n",
       "      <th>dataset</th>\n",
       "      <th>total_nb_images</th>\n",
       "      <th>total_selected_lightly</th>\n",
       "    </tr>\n",
       "  </thead>\n",
       "  <tbody>\n",
       "    <tr>\n",
       "      <th>23</th>\n",
       "      <td>20221010_HaldenNord_S_25_F_60_O_sama_ID1</td>\n",
       "      <td>1412</td>\n",
       "      <td>161</td>\n",
       "    </tr>\n",
       "  </tbody>\n",
       "</table>\n",
       "</div>"
      ],
      "text/plain": [
       "                                     dataset  total_nb_images  \\\n",
       "23  20221010_HaldenNord_S_25_F_60_O_sama_ID1             1412   \n",
       "\n",
       "    total_selected_lightly  \n",
       "23                     161  "
      ]
     },
     "execution_count": 66,
     "metadata": {},
     "output_type": "execute_result"
    }
   ],
   "source": [
    "df[df['dataset'] == '20221010_HaldenNord_S_25_F_60_O_sama_ID1']"
   ]
  },
  {
   "cell_type": "code",
   "execution_count": 67,
   "id": "50eeb47b-6b15-4ca5-a14c-5db3bdfb3f2c",
   "metadata": {},
   "outputs": [
    {
     "data": {
      "text/html": [
       "<div>\n",
       "<style scoped>\n",
       "    .dataframe tbody tr th:only-of-type {\n",
       "        vertical-align: middle;\n",
       "    }\n",
       "\n",
       "    .dataframe tbody tr th {\n",
       "        vertical-align: top;\n",
       "    }\n",
       "\n",
       "    .dataframe thead th {\n",
       "        text-align: right;\n",
       "    }\n",
       "</style>\n",
       "<table border=\"1\" class=\"dataframe\">\n",
       "  <thead>\n",
       "    <tr style=\"text-align: right;\">\n",
       "      <th></th>\n",
       "      <th>dataset</th>\n",
       "      <th>total_nb_images</th>\n",
       "      <th>total_selected_lightly</th>\n",
       "    </tr>\n",
       "  </thead>\n",
       "  <tbody>\n",
       "  </tbody>\n",
       "</table>\n",
       "</div>"
      ],
      "text/plain": [
       "Empty DataFrame\n",
       "Columns: [dataset, total_nb_images, total_selected_lightly]\n",
       "Index: []"
      ]
     },
     "execution_count": 67,
     "metadata": {},
     "output_type": "execute_result"
    }
   ],
   "source": [
    "df[df['dataset'] == '20221010_HaldenSued_S_25_F_60_sama_ID1']"
   ]
  },
  {
   "cell_type": "code",
   "execution_count": null,
   "id": "a7394605-475c-45fb-a921-ec774e94533d",
   "metadata": {},
   "outputs": [],
   "source": [
    "# Total number of images treated"
   ]
  },
  {
   "cell_type": "code",
   "execution_count": 74,
   "id": "6582b41e-01d3-4280-a8f3-c61963c83b95",
   "metadata": {},
   "outputs": [
    {
     "data": {
      "text/plain": [
       "32696"
      ]
     },
     "execution_count": 74,
     "metadata": {},
     "output_type": "execute_result"
    }
   ],
   "source": [
    "nb_images_20221010_HaldenSued_S_25_F_60_sama_ID1 = 999\n",
    "nb_images_all_others = np.sum(df['total_nb_images'])\n",
    "nb_all_images = nb_images_all_others + nb_images_20221010_HaldenSued_S_25_F_60_sama_ID1\n",
    "nb_all_images"
   ]
  },
  {
   "cell_type": "code",
   "execution_count": 75,
   "id": "629efe21-41a2-44e1-a004-c4d42202d5be",
   "metadata": {},
   "outputs": [
    {
     "data": {
      "text/plain": [
       "20000"
      ]
     },
     "execution_count": 75,
     "metadata": {},
     "output_type": "execute_result"
    }
   ],
   "source": [
    "np.sum(df['total_selected_lightly'])"
   ]
  }
 ],
 "metadata": {
  "kernelspec": {
   "display_name": "RumexEnv",
   "language": "python",
   "name": "rumexenv"
  },
  "language_info": {
   "codemirror_mode": {
    "name": "ipython",
    "version": 3
   },
   "file_extension": ".py",
   "mimetype": "text/x-python",
   "name": "python",
   "nbconvert_exporter": "python",
   "pygments_lexer": "ipython3",
   "version": "3.10.9"
  }
 },
 "nbformat": 4,
 "nbformat_minor": 5
}
