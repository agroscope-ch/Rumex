{
 "cells": [
  {
   "cell_type": "code",
   "execution_count": 1,
   "id": "87ef7aa5-1493-4b15-a70f-4207bb1027c3",
   "metadata": {},
   "outputs": [],
   "source": [
    "import os\n",
    "import json\n",
    "import math\n",
    "import cv2\n",
    "import numpy as np\n",
    "from pathlib import Path\n",
    "from tqdm import tqdm\n",
    "from PIL import Image\n",
    "import matplotlib.pyplot as plt\n",
    "from icecream import ic\n",
    "ROOT = \"/mnt/Data-Work-RE/26_Agricultural_Engineering-RE/263_DP/00_Darwin/digital-production\""
   ]
  },
  {
   "cell_type": "code",
   "execution_count": 2,
   "id": "a94a0118-26fa-4c95-a928-945e1666d39c",
   "metadata": {},
   "outputs": [
    {
     "data": {
      "text/plain": [
       "'2'"
      ]
     },
     "execution_count": 2,
     "metadata": {},
     "output_type": "execute_result"
    }
   ],
   "source": [
    "def get_highest_release_dir(root, dataset_name):\n",
    "    releases_path = os.path.join(root, dataset_name, \"releases\")\n",
    "    try:\n",
    "        dirs = [d for d in os.listdir(releases_path) if os.path.isdir(os.path.join(releases_path, d))]\n",
    "        numbered_dirs = [int(d) for d in dirs if d.isdigit()]\n",
    "        if not numbered_dirs:\n",
    "            return None\n",
    "        return str(max(numbered_dirs))\n",
    "    except FileNotFoundError:\n",
    "        print(f\"Path not found: {releases_path}\")\n",
    "        return None\n",
    "\n",
    "# Example usage:\n",
    "dataset_name = \"lightly\"\n",
    "release_id = get_highest_release_dir(ROOT, dataset_name)\n",
    "release_id"
   ]
  },
  {
   "cell_type": "code",
   "execution_count": null,
   "id": "47767d6b-2c22-4dab-be80-a552755fbad3",
   "metadata": {},
   "outputs": [],
   "source": []
  },
  {
   "cell_type": "code",
   "execution_count": 7,
   "id": "cd916d71-bec7-40d8-bca1-eca5e911b2e4",
   "metadata": {},
   "outputs": [
    {
     "name": "stderr",
     "output_type": "stream",
     "text": [
      "  3%|▎         | 23/785 [00:20<13:02,  1.03s/it]"
     ]
    },
    {
     "name": "stdout",
     "output_type": "stream",
     "text": [
      "Annotation file not found for image: 20230621_HerrenpuentSuedwestStreifen_S_00_F_00_H_12_O_sama_ID1_DJI_20230621113335_0024.2_2.png\n"
     ]
    },
    {
     "name": "stderr",
     "output_type": "stream",
     "text": [
      "100%|██████████| 785/785 [14:07<00:00,  1.08s/it]\n"
     ]
    }
   ],
   "source": [
    "def process_bounding_boxes(x, y, w, h, j, i, tile_width, tile_height):\n",
    "    # Calculate the overlapping region\n",
    "    x1 = max(x, j)\n",
    "    y1 = max(y, i)\n",
    "    x2 = min(x + w, j + tile_width)\n",
    "    y2 = min(y + h, i + tile_height)\n",
    "    # print(f'From pbb function: i = {i}')\n",
    "    # print(f'From pbb function: j = {j}')\n",
    "    # print(f'From pbb function: x1 = {x1}')\n",
    "    # print(f'From pbb function: y1 = {y1}')\n",
    "    # print(f'From pbb function: x2 = {x2}')\n",
    "    # print(f'From pbb function: y2 = {y2}')\n",
    "\n",
    "    # Check if there is an overlap\n",
    "    if x1 < x2 and y1 < y2:\n",
    "        # print(f'From pbb function: x1 - j = {x1 - j}')\n",
    "        # print(f'From pbb function: y1 - i = {y1 - i}')\n",
    "        # print(f'From pbb function: x2 - x1 = {x2 - x1}')\n",
    "        # print(f'From pbb function:  y2 - y1 = { y2 - y1}')\n",
    "\n",
    "        return (x1 - j, y1 - i, x2 - x1, y2 - y1) # newX, newY, newWidth, newHeight\n",
    "    else:\n",
    "        return None\n",
    "\n",
    "def tile_and_save(image_path, annotation_path, out_image_dir, out_ann_dir, target_class='rumex_plant'):\n",
    "    # Create output directories if they don't exist\n",
    "    os.makedirs(out_image_dir, exist_ok=True)\n",
    "    os.makedirs(out_ann_dir, exist_ok=True)\n",
    "\n",
    "    # Load the image\n",
    "    image = cv2.imread(image_path)\n",
    "    if image is None:\n",
    "        print(f\"Failed to load image: {image_path}\")\n",
    "        return\n",
    "\n",
    "    image_height, image_width = image.shape[:2]\n",
    "\n",
    "    # Load the annotation file\n",
    "    with open(annotation_path, 'r') as f:\n",
    "        annotation_data = json.load(f)\n",
    "\n",
    "    tile_count = 0\n",
    "    \n",
    "    # Tile the image\n",
    "    tile_width, tile_height = 1024, 678\n",
    "    for i in range(0, image_height - tile_height + 1, tile_height):\n",
    "        remaining_height = image_height - i\n",
    "        if remaining_height < 50:\n",
    "            break  # Stop if remaining height is less than 10 pixels\n",
    "\n",
    "        for j in range(0, image_width - tile_width + 1, tile_width):\n",
    "            remaining_width = image_width - j\n",
    "            if remaining_width < 50:\n",
    "                break  # Stop if remaining width is less than 10 pixels\n",
    "\n",
    "            tile = image[i:i + tile_height, j:j + tile_width]\n",
    "            tile_bboxes = []\n",
    "\n",
    "            # Check if the tile contains any bounding boxes\n",
    "            for annotation in annotation_data['annotations']:\n",
    "                if annotation['name'] == target_class:\n",
    "                    bbox = annotation['bounding_box']\n",
    "                    x, y, w, h = bbox['x'], bbox['y'], bbox['w'], bbox['h']\n",
    "                    # print(f'From loop: x1 = {x}')\n",
    "                    # print(f'From loop: x1 = {y}')\n",
    "                    # print(f'From loop: x1 = {w}')\n",
    "                    # print(f'From loop: x1 = {h}')\n",
    "\n",
    "                    adjusted_bbox = process_bounding_boxes(x, y, w, h, j, i, tile_width, tile_height)\n",
    "                    # print(adjusted_bbox)\n",
    "                    if adjusted_bbox:\n",
    "                        tile_bboxes.append(adjusted_bbox)\n",
    "\n",
    "            if tile_bboxes:\n",
    "                # Save the tile\n",
    "                tile_image_path = os.path.join(out_image_dir, f\"{os.path.splitext(os.path.basename(image_path))[0]}_{i}_{j}.png\")\n",
    "                cv2.imwrite(tile_image_path, tile)\n",
    "\n",
    "                # Create and save the annotation for the tile\n",
    "                tile_annotation = {\n",
    "                    \"version\": \"2.0\",\n",
    "                    \"schema_ref\": \"https://darwin-public.s3.eu-west-1.amazonaws.com/darwin_json/2.0/schema.json\",\n",
    "                    \"item\": {\n",
    "                        \"name\": os.path.basename(tile_image_path),\n",
    "                        \"path\": \"/\",\n",
    "                        \"slots\": [{\n",
    "                            \"type\": \"image\",\n",
    "                            \"slot_name\": \"0\",\n",
    "                            \"width\": tile_width,\n",
    "                            \"height\": tile_height,\n",
    "                            \"thumbnail_url\": \"\",\n",
    "                            \"source_files\": [{\"file_name\": os.path.basename(tile_image_path), \"url\": \"\", \"local_path\": tile_image_path}]\n",
    "                        }]\n",
    "                    },\n",
    "                    \"annotations\": [\n",
    "                        {\n",
    "                            \"bounding_box\": {\"h\": bbox[3], \"w\": bbox[2], \"x\": bbox[0], \"y\": bbox[1]},\n",
    "                            \"name\": target_class,\n",
    "                            \"properties\": [],\n",
    "                            \"slot_names\": [\"0\"]\n",
    "                        } for bbox in tile_bboxes\n",
    "                    ],\n",
    "                    \"properties\": []\n",
    "                }\n",
    "\n",
    "                tile_annotation_path = os.path.join(out_ann_dir, f\"{os.path.splitext(os.path.basename(annotation_path))[0]}_{i}_{j}.json\")\n",
    "                with open(tile_annotation_path, 'w') as f:\n",
    "                    json.dump(tile_annotation, f, indent=4)\n",
    "                tile_count += 1\n",
    "\n",
    "    return tile_count\n",
    "\n",
    "def process_dataset(ROOT, dataset_name, max_tiles = 10000000):\n",
    "    total_tiles_saved = 0\n",
    "    \n",
    "    img_dir = os.path.join(ROOT, dataset_name, \"images\")\n",
    "    ann_dir = os.path.join(ROOT, dataset_name, \"releases\", get_highest_release_dir(ROOT, dataset_name), \"annotations\")\n",
    "    out_img_dir = os.path.join(ROOT, dataset_name, \"images_splitted\")\n",
    "    out_ann_dir = os.path.join(ROOT, dataset_name, \"releases\", get_highest_release_dir(ROOT, dataset_name), \"annotations_splitted\")\n",
    "\n",
    "    # Process each image and annotation file\n",
    "    for image_file in tqdm(os.listdir(img_dir)):\n",
    "        if image_file.endswith(('.png', 'jpg', '.JPG', '.jpeg')):\n",
    "            image_path = os.path.join(img_dir, image_file)\n",
    "            annotation_file = os.path.splitext(image_file)[0] + \".json\"\n",
    "            annotation_path = os.path.join(ann_dir, annotation_file)\n",
    "\n",
    "            if os.path.exists(annotation_path):\n",
    "                tiles_saved = tile_and_save(image_path, annotation_path, out_img_dir, out_ann_dir)\n",
    "                total_tiles_saved += tiles_saved\n",
    "                if total_tiles_saved >= max_tiles:\n",
    "                    print(f\"Reached the limit of {max_tiles} tiles.\")\n",
    "                    return\n",
    "            else:\n",
    "                print(f\"Annotation file not found for image: {image_file}\")\n",
    "\n",
    "# Example usage\n",
    "dataset_name = \"lightly\"\n",
    "process_dataset(ROOT, dataset_name)"
   ]
  },
  {
   "cell_type": "code",
   "execution_count": 8,
   "id": "c63fecec-ebc7-4ad7-b71c-4d5065d62aa9",
   "metadata": {},
   "outputs": [
    {
     "name": "stderr",
     "output_type": "stream",
     "text": [
      "100%|██████████| 220/220 [09:02<00:00,  2.47s/it]\n"
     ]
    }
   ],
   "source": [
    "# Example usage\n",
    "dataset_name = \"bildacher\"\n",
    "process_dataset(ROOT, dataset_name)"
   ]
  },
  {
   "cell_type": "code",
   "execution_count": 9,
   "id": "348f1dc5-de57-49f9-9c4e-9da8555d3483",
   "metadata": {},
   "outputs": [
    {
     "name": "stderr",
     "output_type": "stream",
     "text": [
      "100%|██████████| 160/160 [17:25<00:00,  6.54s/it]\n"
     ]
    }
   ],
   "source": [
    "dataset_name = \"haldennord10\"\n",
    "process_dataset(ROOT, dataset_name)"
   ]
  },
  {
   "cell_type": "markdown",
   "id": "59eba53c-c027-44b7-96f9-ab32ba48dc92",
   "metadata": {},
   "source": [
    "# The below codes are for debugging purposes only"
   ]
  },
  {
   "cell_type": "code",
   "execution_count": null,
   "id": "5c4f5bd5-4db2-4011-b216-4a51901157dd",
   "metadata": {},
   "outputs": [],
   "source": [
    "im_name = '20230621_HerrenpuentSuedwestStreifen_S_00_F_00_H_12_O_sama_ID1_DJI_20230621113335_0024.2_2.PNG'\n",
    "json_name =  im_name.replace('PNG', 'json')\n",
    "dataset = 'lightly'\n",
    "im_path = os.path.join(ROOT, dataset, 'images', im_name)\n",
    "json_path = os.path.join(ROOT, f'{dataset}/releases/1/annotations', json_name)\n",
    "\n",
    "image = cv2.imread(im_path)\n",
    "if image is None:\n",
    "    raise FileNotFoundError(f\"Could not load image at: {im_name}\")\n",
    "image_height, image_width = image.shape[:2]\n",
    "\n",
    "# === Draw bounding boxes (in blue) ===\n",
    "with open(json_path, 'r') as f:\n",
    "    data = json.load(f)\n",
    "\n",
    "annotations = data.get(\"annotations\", [])\n",
    "for ann in annotations:\n",
    "    bbox = ann.get(\"bounding_box\", {})\n",
    "    x, y = int(bbox[\"x\"]), int(bbox[\"y\"])\n",
    "    w, h = int(bbox[\"w\"]), int(bbox[\"h\"])\n",
    "    cv2.rectangle(image, (x, y), (x + w, y + h), (255, 0, 0), 2)  # Blue boxes\n",
    "\n",
    "# === Draw tile grid lines (in red) ===\n",
    "# for i in range(0, image_height - tile_height + 1, tile_height):\n",
    "#     cv2.line(image, (0, i), (image_width, i), color=(0, 0, 255), thickness=10)  # Horizontal\n",
    "\n",
    "# for j in range(0, image_width - tile_width + 1, tile_width):\n",
    "#     cv2.line(image, (j, 0), (j, image_height), color=(0, 0, 255), thickness=10)  # Vertical\n",
    "\n",
    "# === Save image ===\n",
    "cv2.imwrite(f'boxes_{im_name}', image)\n",
    "\n",
    "# === Display using matplotlib ===\n",
    "image_rgb = cv2.cvtColor(image, cv2.COLOR_BGR2RGB)\n",
    "plt.figure(figsize=(12, 8))\n",
    "plt.imshow(image_rgb)\n",
    "plt.axis(\"off\")\n",
    "plt.title(\"Annotations + Grid\")\n",
    "plt.show()"
   ]
  },
  {
   "cell_type": "code",
   "execution_count": null,
   "id": "de1986ad-bb09-4084-b694-ab9a18bdbd3f",
   "metadata": {},
   "outputs": [],
   "source": [
    "\n",
    "im_name = os.path.join(ROOT, 'lightly', 'images', '20230621_HerrenpuentSuedwestStreifen_S_00_F_00_H_12_O_sama_ID1_DJI_20230621113335_0024.2_2.png')\n",
    "json_path = os.path.join(ROOT, 'lightly/releases/1/annotations', '20230621_HerrenpuentSuedwestStreifen_S_00_F_00_H_12_O_sama_ID1_DJI_20230621113335_0024.2_2.json')\n",
    "\n",
    "\n",
    "# Load image\n",
    "image = cv2.imread(im_name)\n",
    "if image is None:\n",
    "    raise FileNotFoundError(f\"Could not load image at: {im_name}\")\n",
    "image = cv2.cvtColor(image, cv2.COLOR_BGR2RGB)\n",
    "\n",
    "# Load Darwin 2.0 annotation JSON\n",
    "with open(json_path, 'r') as f:\n",
    "    data = json.load(f)\n",
    "\n",
    "annotations = data.get(\"annotations\", [])\n",
    "print(annotations)\n",
    "\n",
    "for ann in annotations:\n",
    "        bbox = ann.get(\"bounding_box\", {})\n",
    "        print(bbox)\n",
    "        x, y = int(bbox[\"x\"]), int(bbox[\"y\"])\n",
    "        w, h = int(bbox[\"w\"]), int(bbox[\"h\"])\n",
    "        # Draw bounding box\n",
    "        print(x)\n",
    "        print(y)\n",
    "        print(h)\n",
    "        print(w)\n",
    "\n",
    "        cv2.rectangle(image, (x, y), (x + w, y + h), (255, 0, 0), 2)\n",
    "\n",
    "# Show result\n",
    "plt.figure(figsize=(12, 8))\n",
    "plt.imshow(image)\n",
    "plt.axis(\"off\")\n",
    "plt.title(\"Darwin 2.0 Annotations\")\n",
    "plt.show()"
   ]
  }
 ],
 "metadata": {
  "kernelspec": {
   "display_name": "Python 3 (ipykernel)",
   "language": "python",
   "name": "python3"
  },
  "language_info": {
   "codemirror_mode": {
    "name": "ipython",
    "version": 3
   },
   "file_extension": ".py",
   "mimetype": "text/x-python",
   "name": "python",
   "nbconvert_exporter": "python",
   "pygments_lexer": "ipython3",
   "version": "3.11.9"
  }
 },
 "nbformat": 4,
 "nbformat_minor": 5
}
